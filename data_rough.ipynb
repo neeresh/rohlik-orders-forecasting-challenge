{
 "cells": [
  {
   "cell_type": "code",
   "id": "initial_id",
   "metadata": {
    "collapsed": true,
    "ExecuteTime": {
     "end_time": "2024-08-13T05:29:00.967104Z",
     "start_time": "2024-08-13T05:29:00.965070Z"
    }
   },
   "source": [
    ""
   ],
   "outputs": [],
   "execution_count": null
  },
  {
   "metadata": {
    "ExecuteTime": {
     "end_time": "2024-08-13T05:30:11.919470Z",
     "start_time": "2024-08-13T05:30:11.907455Z"
    }
   },
   "cell_type": "code",
   "source": [
    "from sklearn.preprocessing import StandardScaler\n",
    "import os\n",
    "\n",
    "from TSForecasting.utils.timefeatures import time_features\n",
    "import pandas as pd\n",
    "from torch.utils.data import Dataset\n",
    "\n",
    "\n",
    "class Dataset_Custom(Dataset):\n",
    "    def __init__(self, root_path, flag, size, features, data_path,\n",
    "                 target, scale=False, timeenc=0, freq='h',train_only=False):\n",
    "        \n",
    "        if size is None:\n",
    "            self.seq_len = 24 * 4 * 4\n",
    "            self.label_len = 24 * 4\n",
    "            self.pred_len = 24 * 4\n",
    "            \n",
    "        else:\n",
    "            self.seq_len = size[0]\n",
    "            self.label_len = size[1]\n",
    "            self.pred_len = size[2]\n",
    "            \n",
    "        assert flag in ['train', 'test', 'val']\n",
    "        type_map = {'train': 0, 'val': 1, 'test': 2}\n",
    "        self.set_type = type_map[flag]\n",
    "        self.train_only = train_only\n",
    "\n",
    "        self.features = features\n",
    "        self.target = target\n",
    "        self.scale = scale\n",
    "        self.timeenc = timeenc\n",
    "        self.freq = freq\n",
    "\n",
    "        self.root_path = root_path\n",
    "        self.data_path = data_path\n",
    "        self.__read_data__()\n",
    "\n",
    "    def __read_data__(self):\n",
    "        self.scaler = StandardScaler()\n",
    "        df_raw = pd.read_csv(os.path.join(self.root_path, self.data_path))\n",
    "        print(df_raw.columns)\n",
    "        '''\n",
    "        df_raw.columns: ['date', ...(other features), target feature]\n",
    "        '''\n",
    "        cols = list(df_raw.columns)\n",
    "        if self.features == 'S':\n",
    "            cols.remove(self.target)\n",
    "        cols.remove('date')\n",
    "\n",
    "        num_train = int(len(df_raw) * (0.7 if not self.train_only else 1))\n",
    "        num_test = int(len(df_raw) * 0.2)\n",
    "        num_vali = len(df_raw) - num_train - num_test\n",
    "        border1s = [0, num_train - self.seq_len, len(df_raw) - num_test - self.seq_len]\n",
    "        border2s = [num_train, num_train + num_vali, len(df_raw)]\n",
    "        border1 = border1s[self.set_type]\n",
    "        border2 = border2s[self.set_type]\n",
    "\n",
    "        if self.features == 'M' or self.features == 'MS':\n",
    "            df_raw = df_raw[['date'] + cols]\n",
    "            cols_data = df_raw.columns[1:]  # Using columns 1 through end column (first col - date)\n",
    "            df_data = df_raw[cols_data]\n",
    "            self.num_features = len(cols_data)\n",
    "        elif self.features == 'S':\n",
    "            df_raw = df_raw[['date'] + cols + [self.target]]\n",
    "            df_data = df_raw[[self.target]]\n",
    "            self.num_features = 1\n",
    "\n",
    "        if self.scale:\n",
    "            train_data = df_data[border1s[0]:border2s[0]]\n",
    "            self.scaler.fit(train_data.values)\n",
    "            # print(self.scaler.mean_)\n",
    "            # exit()\n",
    "            data = self.scaler.transform(df_data.values)\n",
    "        else:\n",
    "            data = df_data.values\n",
    "\n",
    "        df_stamp = df_raw[['date']][border1:border2]\n",
    "        df_stamp['date'] = pd.to_datetime(df_stamp.date)\n",
    "        if self.timeenc == 0:\n",
    "            df_stamp['month'] = df_stamp.date.apply(lambda row: row.month, 1)\n",
    "            df_stamp['day'] = df_stamp.date.apply(lambda row: row.day, 1)\n",
    "            df_stamp['weekday'] = df_stamp.date.apply(lambda row: row.weekday(), 1)\n",
    "            df_stamp['hour'] = df_stamp.date.apply(lambda row: row.hour, 1)\n",
    "            data_stamp = df_stamp.drop(['date'], axis=1).values\n",
    "            \n",
    "        elif self.timeenc == 1:\n",
    "            data_stamp = time_features(pd.to_datetime(df_stamp['date'].values), freq=self.freq)\n",
    "            data_stamp = data_stamp.transpose(1, 0)\n",
    "\n",
    "        self.data_x = data[border1:border2]\n",
    "        self.data_y = data[border1:border2]\n",
    "        self.data_stamp = data_stamp\n",
    "\n",
    "    def __getitem__(self, index):\n",
    "        s_begin = index\n",
    "        s_end = s_begin + self.seq_len\n",
    "        r_begin = s_end - self.label_len\n",
    "        r_end = r_begin + self.label_len + self.pred_len\n",
    "\n",
    "        seq_x = self.data_x[s_begin:s_end]\n",
    "        seq_y = self.data_y[r_begin:r_end]\n",
    "        seq_x_mark = self.data_stamp[s_begin:s_end]\n",
    "        seq_y_mark = self.data_stamp[r_begin:r_end]\n",
    "\n",
    "        return seq_x, seq_y, seq_x_mark, seq_y_mark\n",
    "\n",
    "    def __len__(self):\n",
    "        return len(self.data_x) - self.seq_len - self.pred_len + 1\n",
    "\n",
    "    def inverse_transform(self, data):\n",
    "        return self.scaler.inverse_transform(data)\n",
    "    "
   ],
   "id": "63d17d6ba4446451",
   "outputs": [],
   "execution_count": 5
  },
  {
   "metadata": {
    "ExecuteTime": {
     "end_time": "2024-08-13T05:30:12.242873Z",
     "start_time": "2024-08-13T05:30:12.214444Z"
    }
   },
   "cell_type": "code",
   "source": [
    "data_set = Dataset_Custom(root_path='.', data_path='data/processed/train_set_processed.csv', flag='train',\n",
    "                size=[4, 0, 1], features='MS', target='orders', timeenc=0, freq='d')\n"
   ],
   "id": "4a604dda536266b8",
   "outputs": [
    {
     "name": "stdout",
     "output_type": "stream",
     "text": [
      "Index(['warehouse', 'date', 'holiday', 'shops_closed',\n",
      "       'winter_school_holidays', 'school_holidays', 'orders', 'day', 'month',\n",
      "       'year', 'day_of_week', 'week_of_year', 'is_weekend', 'is_holiday',\n",
      "       'quarter'],\n",
      "      dtype='object')\n"
     ]
    },
    {
     "name": "stderr",
     "output_type": "stream",
     "text": [
      "/tmp/ipykernel_208453/1656254287.py:80: FutureWarning: the convert_dtype parameter is deprecated and will be removed in a future version.  Do ``ser.astype(object).apply()`` instead if you want ``convert_dtype=False``.\n",
      "  df_stamp['month'] = df_stamp.date.apply(lambda row: row.month, 1)\n",
      "/tmp/ipykernel_208453/1656254287.py:81: FutureWarning: the convert_dtype parameter is deprecated and will be removed in a future version.  Do ``ser.astype(object).apply()`` instead if you want ``convert_dtype=False``.\n",
      "  df_stamp['day'] = df_stamp.date.apply(lambda row: row.day, 1)\n",
      "/tmp/ipykernel_208453/1656254287.py:82: FutureWarning: the convert_dtype parameter is deprecated and will be removed in a future version.  Do ``ser.astype(object).apply()`` instead if you want ``convert_dtype=False``.\n",
      "  df_stamp['weekday'] = df_stamp.date.apply(lambda row: row.weekday(), 1)\n",
      "/tmp/ipykernel_208453/1656254287.py:83: FutureWarning: the convert_dtype parameter is deprecated and will be removed in a future version.  Do ``ser.astype(object).apply()`` instead if you want ``convert_dtype=False``.\n",
      "  df_stamp['hour'] = df_stamp.date.apply(lambda row: row.hour, 1)\n"
     ]
    }
   ],
   "execution_count": 6
  },
  {
   "metadata": {
    "ExecuteTime": {
     "end_time": "2024-08-13T05:30:20.624062Z",
     "start_time": "2024-08-13T05:30:20.621022Z"
    }
   },
   "cell_type": "code",
   "source": "data_set.data_x",
   "id": "5d16a36a509151a3",
   "outputs": [
    {
     "data": {
      "text/plain": [
       "array([[4., 0., 0., ..., 1., 0., 4.],\n",
       "       [4., 0., 0., ..., 1., 0., 4.],\n",
       "       [4., 0., 0., ..., 0., 0., 4.],\n",
       "       ...,\n",
       "       [3., 0., 0., ..., 0., 0., 4.],\n",
       "       [3., 0., 0., ..., 0., 0., 4.],\n",
       "       [3., 0., 0., ..., 0., 0., 4.]])"
      ]
     },
     "execution_count": 8,
     "metadata": {},
     "output_type": "execute_result"
    }
   ],
   "execution_count": 8
  },
  {
   "metadata": {
    "ExecuteTime": {
     "end_time": "2024-08-13T05:31:09.429197Z",
     "start_time": "2024-08-13T05:31:09.426035Z"
    }
   },
   "cell_type": "code",
   "source": "data_set.data_y",
   "id": "593f01d189a7d0c6",
   "outputs": [
    {
     "data": {
      "text/plain": [
       "array([[4., 0., 0., ..., 1., 0., 4.],\n",
       "       [4., 0., 0., ..., 1., 0., 4.],\n",
       "       [4., 0., 0., ..., 0., 0., 4.],\n",
       "       ...,\n",
       "       [3., 0., 0., ..., 0., 0., 4.],\n",
       "       [3., 0., 0., ..., 0., 0., 4.],\n",
       "       [3., 0., 0., ..., 0., 0., 4.]])"
      ]
     },
     "execution_count": 10,
     "metadata": {},
     "output_type": "execute_result"
    }
   ],
   "execution_count": 10
  },
  {
   "metadata": {},
   "cell_type": "code",
   "outputs": [],
   "execution_count": null,
   "source": "",
   "id": "f1da97772a385d97"
  },
  {
   "metadata": {
    "ExecuteTime": {
     "end_time": "2024-08-13T05:33:28.890804Z",
     "start_time": "2024-08-13T05:33:26.160067Z"
    }
   },
   "cell_type": "code",
   "source": [
    "from torch.utils.data import DataLoader\n",
    "\n",
    "data_loader = DataLoader(data_set, batch_size=2, shuffle=True, num_workers=4, drop_last=True)\n",
    "\n",
    "for i in data_loader:\n",
    "    break"
   ],
   "id": "410ff19ca89e4f8",
   "outputs": [],
   "execution_count": 11
  },
  {
   "metadata": {
    "ExecuteTime": {
     "end_time": "2024-08-13T05:33:33.508794Z",
     "start_time": "2024-08-13T05:33:33.501360Z"
    }
   },
   "cell_type": "code",
   "source": "i[0]",
   "id": "5c827a7705a556f7",
   "outputs": [
    {
     "data": {
      "text/plain": [
       "tensor([[[4.0000e+00, 0.0000e+00, 0.0000e+00, 0.0000e+00, 0.0000e+00,\n",
       "          9.5050e+03, 2.0000e+00, 2.0000e+00, 2.0220e+03, 2.0000e+00,\n",
       "          5.0000e+00, 0.0000e+00, 0.0000e+00, 1.0000e+00],\n",
       "         [4.0000e+00, 0.0000e+00, 0.0000e+00, 0.0000e+00, 0.0000e+00,\n",
       "          9.5840e+03, 3.0000e+00, 2.0000e+00, 2.0220e+03, 3.0000e+00,\n",
       "          5.0000e+00, 0.0000e+00, 0.0000e+00, 1.0000e+00],\n",
       "         [4.0000e+00, 0.0000e+00, 0.0000e+00, 0.0000e+00, 0.0000e+00,\n",
       "          1.0411e+04, 4.0000e+00, 2.0000e+00, 2.0220e+03, 4.0000e+00,\n",
       "          5.0000e+00, 0.0000e+00, 0.0000e+00, 1.0000e+00],\n",
       "         [4.0000e+00, 0.0000e+00, 0.0000e+00, 0.0000e+00, 0.0000e+00,\n",
       "          8.8280e+03, 5.0000e+00, 2.0000e+00, 2.0220e+03, 5.0000e+00,\n",
       "          5.0000e+00, 1.0000e+00, 0.0000e+00, 1.0000e+00]],\n",
       "\n",
       "        [[6.0000e+00, 0.0000e+00, 0.0000e+00, 0.0000e+00, 0.0000e+00,\n",
       "          4.6610e+03, 2.5000e+01, 4.0000e+00, 2.0220e+03, 0.0000e+00,\n",
       "          1.7000e+01, 0.0000e+00, 0.0000e+00, 2.0000e+00],\n",
       "         [6.0000e+00, 0.0000e+00, 0.0000e+00, 0.0000e+00, 0.0000e+00,\n",
       "          4.4240e+03, 2.6000e+01, 4.0000e+00, 2.0220e+03, 1.0000e+00,\n",
       "          1.7000e+01, 0.0000e+00, 0.0000e+00, 2.0000e+00],\n",
       "         [6.0000e+00, 0.0000e+00, 0.0000e+00, 0.0000e+00, 0.0000e+00,\n",
       "          4.3420e+03, 2.7000e+01, 4.0000e+00, 2.0220e+03, 2.0000e+00,\n",
       "          1.7000e+01, 0.0000e+00, 0.0000e+00, 2.0000e+00],\n",
       "         [6.0000e+00, 0.0000e+00, 0.0000e+00, 0.0000e+00, 0.0000e+00,\n",
       "          4.5340e+03, 2.8000e+01, 4.0000e+00, 2.0220e+03, 3.0000e+00,\n",
       "          1.7000e+01, 0.0000e+00, 0.0000e+00, 2.0000e+00]]],\n",
       "       dtype=torch.float64)"
      ]
     },
     "execution_count": 13,
     "metadata": {},
     "output_type": "execute_result"
    }
   ],
   "execution_count": 13
  },
  {
   "metadata": {
    "ExecuteTime": {
     "end_time": "2024-08-13T05:33:42.176271Z",
     "start_time": "2024-08-13T05:33:42.170645Z"
    }
   },
   "cell_type": "code",
   "source": "i[1]",
   "id": "de17a5ba53a0e83e",
   "outputs": [
    {
     "data": {
      "text/plain": [
       "tensor([[[4.0000e+00, 0.0000e+00, 0.0000e+00, 0.0000e+00, 0.0000e+00,\n",
       "          8.9590e+03, 6.0000e+00, 2.0000e+00, 2.0220e+03, 6.0000e+00,\n",
       "          5.0000e+00, 1.0000e+00, 0.0000e+00, 1.0000e+00]],\n",
       "\n",
       "        [[6.0000e+00, 0.0000e+00, 0.0000e+00, 0.0000e+00, 0.0000e+00,\n",
       "          5.1420e+03, 2.9000e+01, 4.0000e+00, 2.0220e+03, 4.0000e+00,\n",
       "          1.7000e+01, 0.0000e+00, 0.0000e+00, 2.0000e+00]]],\n",
       "       dtype=torch.float64)"
      ]
     },
     "execution_count": 14,
     "metadata": {},
     "output_type": "execute_result"
    }
   ],
   "execution_count": 14
  },
  {
   "metadata": {},
   "cell_type": "code",
   "outputs": [],
   "execution_count": null,
   "source": "",
   "id": "6ad04e259112f320"
  },
  {
   "metadata": {},
   "cell_type": "code",
   "outputs": [],
   "execution_count": null,
   "source": "",
   "id": "3a4ee3b616787e87"
  },
  {
   "metadata": {},
   "cell_type": "code",
   "outputs": [],
   "execution_count": null,
   "source": "",
   "id": "3029d10d0d243b97"
  },
  {
   "metadata": {},
   "cell_type": "code",
   "outputs": [],
   "execution_count": null,
   "source": "",
   "id": "98230ebc93255b30"
  },
  {
   "metadata": {},
   "cell_type": "code",
   "outputs": [],
   "execution_count": null,
   "source": "",
   "id": "afa99ed9af59b33a"
  },
  {
   "metadata": {},
   "cell_type": "code",
   "outputs": [],
   "execution_count": null,
   "source": "",
   "id": "21a6f6890e2232f5"
  },
  {
   "metadata": {},
   "cell_type": "code",
   "outputs": [],
   "execution_count": null,
   "source": "",
   "id": "a31c4d37b0b4bc76"
  },
  {
   "metadata": {},
   "cell_type": "code",
   "outputs": [],
   "execution_count": null,
   "source": "",
   "id": "2f3149163b90e3c"
  },
  {
   "metadata": {},
   "cell_type": "code",
   "outputs": [],
   "execution_count": null,
   "source": "",
   "id": "fae9eb9a975b7dda"
  },
  {
   "metadata": {},
   "cell_type": "code",
   "outputs": [],
   "execution_count": null,
   "source": "",
   "id": "d47e03c37d8a9d4e"
  },
  {
   "metadata": {},
   "cell_type": "code",
   "outputs": [],
   "execution_count": null,
   "source": "",
   "id": "72f11880769f449a"
  },
  {
   "metadata": {},
   "cell_type": "code",
   "outputs": [],
   "execution_count": null,
   "source": "",
   "id": "7c8c939a2d4c1b1f"
  },
  {
   "metadata": {},
   "cell_type": "code",
   "outputs": [],
   "execution_count": null,
   "source": "",
   "id": "763f2d55cded7cc3"
  },
  {
   "metadata": {},
   "cell_type": "code",
   "outputs": [],
   "execution_count": null,
   "source": "",
   "id": "80114854579fbc08"
  },
  {
   "metadata": {},
   "cell_type": "code",
   "outputs": [],
   "execution_count": null,
   "source": "",
   "id": "1934ac46233e088f"
  },
  {
   "metadata": {
    "ExecuteTime": {
     "end_time": "2024-08-13T05:30:41.564603Z",
     "start_time": "2024-08-13T05:30:41.549430Z"
    }
   },
   "cell_type": "code",
   "source": "pd.read_csv('data/processed/train_set_processed.csv')",
   "id": "f0459d9324237147",
   "outputs": [
    {
     "data": {
      "text/plain": [
       "      warehouse        date  holiday  shops_closed  winter_school_holidays  \\\n",
       "0             4  2020-12-05        0             0                       0   \n",
       "1             4  2020-12-06        0             0                       0   \n",
       "2             4  2020-12-07        0             0                       0   \n",
       "3             4  2020-12-08        0             0                       0   \n",
       "4             4  2020-12-09        0             0                       0   \n",
       "...         ...         ...      ...           ...                     ...   \n",
       "7335          1  2024-03-10        0             0                       0   \n",
       "7336          1  2024-03-11        0             0                       0   \n",
       "7337          1  2024-03-12        0             0                       0   \n",
       "7338          1  2024-03-13        0             0                       0   \n",
       "7339          1  2024-03-14        0             0                       0   \n",
       "\n",
       "      school_holidays  orders  day  month  year  day_of_week  week_of_year  \\\n",
       "0                   0  6895.0    5     12  2020            5            49   \n",
       "1                   0  6584.0    6     12  2020            6            49   \n",
       "2                   0  7030.0    7     12  2020            0            50   \n",
       "3                   0  6550.0    8     12  2020            1            50   \n",
       "4                   0  6910.0    9     12  2020            2            50   \n",
       "...               ...     ...  ...    ...   ...          ...           ...   \n",
       "7335                0  6733.0   10      3  2024            6            10   \n",
       "7336                0  6492.0   11      3  2024            0            11   \n",
       "7337                0  6661.0   12      3  2024            1            11   \n",
       "7338                0  6843.0   13      3  2024            2            11   \n",
       "7339                0  8130.0   14      3  2024            3            11   \n",
       "\n",
       "      is_weekend  is_holiday  quarter  \n",
       "0              1           0        4  \n",
       "1              1           0        4  \n",
       "2              0           0        4  \n",
       "3              0           0        4  \n",
       "4              0           0        4  \n",
       "...          ...         ...      ...  \n",
       "7335           1           0        1  \n",
       "7336           0           0        1  \n",
       "7337           0           0        1  \n",
       "7338           0           0        1  \n",
       "7339           0           0        1  \n",
       "\n",
       "[7340 rows x 15 columns]"
      ],
      "text/html": [
       "<div>\n",
       "<style scoped>\n",
       "    .dataframe tbody tr th:only-of-type {\n",
       "        vertical-align: middle;\n",
       "    }\n",
       "\n",
       "    .dataframe tbody tr th {\n",
       "        vertical-align: top;\n",
       "    }\n",
       "\n",
       "    .dataframe thead th {\n",
       "        text-align: right;\n",
       "    }\n",
       "</style>\n",
       "<table border=\"1\" class=\"dataframe\">\n",
       "  <thead>\n",
       "    <tr style=\"text-align: right;\">\n",
       "      <th></th>\n",
       "      <th>warehouse</th>\n",
       "      <th>date</th>\n",
       "      <th>holiday</th>\n",
       "      <th>shops_closed</th>\n",
       "      <th>winter_school_holidays</th>\n",
       "      <th>school_holidays</th>\n",
       "      <th>orders</th>\n",
       "      <th>day</th>\n",
       "      <th>month</th>\n",
       "      <th>year</th>\n",
       "      <th>day_of_week</th>\n",
       "      <th>week_of_year</th>\n",
       "      <th>is_weekend</th>\n",
       "      <th>is_holiday</th>\n",
       "      <th>quarter</th>\n",
       "    </tr>\n",
       "  </thead>\n",
       "  <tbody>\n",
       "    <tr>\n",
       "      <th>0</th>\n",
       "      <td>4</td>\n",
       "      <td>2020-12-05</td>\n",
       "      <td>0</td>\n",
       "      <td>0</td>\n",
       "      <td>0</td>\n",
       "      <td>0</td>\n",
       "      <td>6895.0</td>\n",
       "      <td>5</td>\n",
       "      <td>12</td>\n",
       "      <td>2020</td>\n",
       "      <td>5</td>\n",
       "      <td>49</td>\n",
       "      <td>1</td>\n",
       "      <td>0</td>\n",
       "      <td>4</td>\n",
       "    </tr>\n",
       "    <tr>\n",
       "      <th>1</th>\n",
       "      <td>4</td>\n",
       "      <td>2020-12-06</td>\n",
       "      <td>0</td>\n",
       "      <td>0</td>\n",
       "      <td>0</td>\n",
       "      <td>0</td>\n",
       "      <td>6584.0</td>\n",
       "      <td>6</td>\n",
       "      <td>12</td>\n",
       "      <td>2020</td>\n",
       "      <td>6</td>\n",
       "      <td>49</td>\n",
       "      <td>1</td>\n",
       "      <td>0</td>\n",
       "      <td>4</td>\n",
       "    </tr>\n",
       "    <tr>\n",
       "      <th>2</th>\n",
       "      <td>4</td>\n",
       "      <td>2020-12-07</td>\n",
       "      <td>0</td>\n",
       "      <td>0</td>\n",
       "      <td>0</td>\n",
       "      <td>0</td>\n",
       "      <td>7030.0</td>\n",
       "      <td>7</td>\n",
       "      <td>12</td>\n",
       "      <td>2020</td>\n",
       "      <td>0</td>\n",
       "      <td>50</td>\n",
       "      <td>0</td>\n",
       "      <td>0</td>\n",
       "      <td>4</td>\n",
       "    </tr>\n",
       "    <tr>\n",
       "      <th>3</th>\n",
       "      <td>4</td>\n",
       "      <td>2020-12-08</td>\n",
       "      <td>0</td>\n",
       "      <td>0</td>\n",
       "      <td>0</td>\n",
       "      <td>0</td>\n",
       "      <td>6550.0</td>\n",
       "      <td>8</td>\n",
       "      <td>12</td>\n",
       "      <td>2020</td>\n",
       "      <td>1</td>\n",
       "      <td>50</td>\n",
       "      <td>0</td>\n",
       "      <td>0</td>\n",
       "      <td>4</td>\n",
       "    </tr>\n",
       "    <tr>\n",
       "      <th>4</th>\n",
       "      <td>4</td>\n",
       "      <td>2020-12-09</td>\n",
       "      <td>0</td>\n",
       "      <td>0</td>\n",
       "      <td>0</td>\n",
       "      <td>0</td>\n",
       "      <td>6910.0</td>\n",
       "      <td>9</td>\n",
       "      <td>12</td>\n",
       "      <td>2020</td>\n",
       "      <td>2</td>\n",
       "      <td>50</td>\n",
       "      <td>0</td>\n",
       "      <td>0</td>\n",
       "      <td>4</td>\n",
       "    </tr>\n",
       "    <tr>\n",
       "      <th>...</th>\n",
       "      <td>...</td>\n",
       "      <td>...</td>\n",
       "      <td>...</td>\n",
       "      <td>...</td>\n",
       "      <td>...</td>\n",
       "      <td>...</td>\n",
       "      <td>...</td>\n",
       "      <td>...</td>\n",
       "      <td>...</td>\n",
       "      <td>...</td>\n",
       "      <td>...</td>\n",
       "      <td>...</td>\n",
       "      <td>...</td>\n",
       "      <td>...</td>\n",
       "      <td>...</td>\n",
       "    </tr>\n",
       "    <tr>\n",
       "      <th>7335</th>\n",
       "      <td>1</td>\n",
       "      <td>2024-03-10</td>\n",
       "      <td>0</td>\n",
       "      <td>0</td>\n",
       "      <td>0</td>\n",
       "      <td>0</td>\n",
       "      <td>6733.0</td>\n",
       "      <td>10</td>\n",
       "      <td>3</td>\n",
       "      <td>2024</td>\n",
       "      <td>6</td>\n",
       "      <td>10</td>\n",
       "      <td>1</td>\n",
       "      <td>0</td>\n",
       "      <td>1</td>\n",
       "    </tr>\n",
       "    <tr>\n",
       "      <th>7336</th>\n",
       "      <td>1</td>\n",
       "      <td>2024-03-11</td>\n",
       "      <td>0</td>\n",
       "      <td>0</td>\n",
       "      <td>0</td>\n",
       "      <td>0</td>\n",
       "      <td>6492.0</td>\n",
       "      <td>11</td>\n",
       "      <td>3</td>\n",
       "      <td>2024</td>\n",
       "      <td>0</td>\n",
       "      <td>11</td>\n",
       "      <td>0</td>\n",
       "      <td>0</td>\n",
       "      <td>1</td>\n",
       "    </tr>\n",
       "    <tr>\n",
       "      <th>7337</th>\n",
       "      <td>1</td>\n",
       "      <td>2024-03-12</td>\n",
       "      <td>0</td>\n",
       "      <td>0</td>\n",
       "      <td>0</td>\n",
       "      <td>0</td>\n",
       "      <td>6661.0</td>\n",
       "      <td>12</td>\n",
       "      <td>3</td>\n",
       "      <td>2024</td>\n",
       "      <td>1</td>\n",
       "      <td>11</td>\n",
       "      <td>0</td>\n",
       "      <td>0</td>\n",
       "      <td>1</td>\n",
       "    </tr>\n",
       "    <tr>\n",
       "      <th>7338</th>\n",
       "      <td>1</td>\n",
       "      <td>2024-03-13</td>\n",
       "      <td>0</td>\n",
       "      <td>0</td>\n",
       "      <td>0</td>\n",
       "      <td>0</td>\n",
       "      <td>6843.0</td>\n",
       "      <td>13</td>\n",
       "      <td>3</td>\n",
       "      <td>2024</td>\n",
       "      <td>2</td>\n",
       "      <td>11</td>\n",
       "      <td>0</td>\n",
       "      <td>0</td>\n",
       "      <td>1</td>\n",
       "    </tr>\n",
       "    <tr>\n",
       "      <th>7339</th>\n",
       "      <td>1</td>\n",
       "      <td>2024-03-14</td>\n",
       "      <td>0</td>\n",
       "      <td>0</td>\n",
       "      <td>0</td>\n",
       "      <td>0</td>\n",
       "      <td>8130.0</td>\n",
       "      <td>14</td>\n",
       "      <td>3</td>\n",
       "      <td>2024</td>\n",
       "      <td>3</td>\n",
       "      <td>11</td>\n",
       "      <td>0</td>\n",
       "      <td>0</td>\n",
       "      <td>1</td>\n",
       "    </tr>\n",
       "  </tbody>\n",
       "</table>\n",
       "<p>7340 rows × 15 columns</p>\n",
       "</div>"
      ]
     },
     "execution_count": 9,
     "metadata": {},
     "output_type": "execute_result"
    }
   ],
   "execution_count": 9
  },
  {
   "metadata": {},
   "cell_type": "code",
   "outputs": [],
   "execution_count": null,
   "source": "",
   "id": "200c2c3ce3e0bcfc"
  }
 ],
 "metadata": {
  "kernelspec": {
   "display_name": "Python 3",
   "language": "python",
   "name": "python3"
  },
  "language_info": {
   "codemirror_mode": {
    "name": "ipython",
    "version": 2
   },
   "file_extension": ".py",
   "mimetype": "text/x-python",
   "name": "python",
   "nbconvert_exporter": "python",
   "pygments_lexer": "ipython2",
   "version": "2.7.6"
  }
 },
 "nbformat": 4,
 "nbformat_minor": 5
}
