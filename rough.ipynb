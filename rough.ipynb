{
 "cells": [
  {
   "cell_type": "code",
   "id": "initial_id",
   "metadata": {
    "collapsed": true,
    "ExecuteTime": {
     "end_time": "2024-08-13T04:32:53.420023Z",
     "start_time": "2024-08-13T04:32:53.417803Z"
    }
   },
   "source": [
    ""
   ],
   "outputs": [],
   "execution_count": null
  },
  {
   "metadata": {
    "ExecuteTime": {
     "end_time": "2024-08-13T04:32:55.550590Z",
     "start_time": "2024-08-13T04:32:53.422680Z"
    }
   },
   "cell_type": "code",
   "source": [
    "import numpy as np\n",
    "import pandas as pd\n",
    "\n",
    "import torch\n",
    "import torch.nn as nn\n"
   ],
   "id": "84ae6470b738331a",
   "outputs": [],
   "execution_count": 1
  },
  {
   "metadata": {
    "ExecuteTime": {
     "end_time": "2024-08-13T04:32:55.553785Z",
     "start_time": "2024-08-13T04:32:55.552072Z"
    }
   },
   "cell_type": "code",
   "source": "",
   "id": "83a8c276b640edb0",
   "outputs": [],
   "execution_count": 1
  },
  {
   "metadata": {},
   "cell_type": "markdown",
   "source": "# Reading Data",
   "id": "25c453aeeed929fd"
  },
  {
   "metadata": {
    "ExecuteTime": {
     "end_time": "2024-08-13T04:32:55.592014Z",
     "start_time": "2024-08-13T04:32:55.554447Z"
    }
   },
   "cell_type": "code",
   "source": "pd.read_csv('TSForecasting/dataset/ETT-small/ETTh1.csv')",
   "id": "67262fc0faea1524",
   "outputs": [
    {
     "data": {
      "text/plain": [
       "                      date    HUFL   HULL   MUFL   MULL   LUFL   LULL  \\\n",
       "0      2016-07-01 00:00:00   5.827  2.009  1.599  0.462  4.203  1.340   \n",
       "1      2016-07-01 01:00:00   5.693  2.076  1.492  0.426  4.142  1.371   \n",
       "2      2016-07-01 02:00:00   5.157  1.741  1.279  0.355  3.777  1.218   \n",
       "3      2016-07-01 03:00:00   5.090  1.942  1.279  0.391  3.807  1.279   \n",
       "4      2016-07-01 04:00:00   5.358  1.942  1.492  0.462  3.868  1.279   \n",
       "...                    ...     ...    ...    ...    ...    ...    ...   \n",
       "17415  2018-06-26 15:00:00  -1.674  3.550 -5.615  2.132  3.472  1.523   \n",
       "17416  2018-06-26 16:00:00  -5.492  4.287 -9.132  2.274  3.533  1.675   \n",
       "17417  2018-06-26 17:00:00   2.813  3.818 -0.817  2.097  3.716  1.523   \n",
       "17418  2018-06-26 18:00:00   9.243  3.818  5.472  2.097  3.655  1.432   \n",
       "17419  2018-06-26 19:00:00  10.114  3.550  6.183  1.564  3.716  1.462   \n",
       "\n",
       "              OT  \n",
       "0      30.531000  \n",
       "1      27.787001  \n",
       "2      27.787001  \n",
       "3      25.044001  \n",
       "4      21.948000  \n",
       "...          ...  \n",
       "17415  10.904000  \n",
       "17416  11.044000  \n",
       "17417  10.271000  \n",
       "17418   9.778000  \n",
       "17419   9.567000  \n",
       "\n",
       "[17420 rows x 8 columns]"
      ],
      "text/html": [
       "<div>\n",
       "<style scoped>\n",
       "    .dataframe tbody tr th:only-of-type {\n",
       "        vertical-align: middle;\n",
       "    }\n",
       "\n",
       "    .dataframe tbody tr th {\n",
       "        vertical-align: top;\n",
       "    }\n",
       "\n",
       "    .dataframe thead th {\n",
       "        text-align: right;\n",
       "    }\n",
       "</style>\n",
       "<table border=\"1\" class=\"dataframe\">\n",
       "  <thead>\n",
       "    <tr style=\"text-align: right;\">\n",
       "      <th></th>\n",
       "      <th>date</th>\n",
       "      <th>HUFL</th>\n",
       "      <th>HULL</th>\n",
       "      <th>MUFL</th>\n",
       "      <th>MULL</th>\n",
       "      <th>LUFL</th>\n",
       "      <th>LULL</th>\n",
       "      <th>OT</th>\n",
       "    </tr>\n",
       "  </thead>\n",
       "  <tbody>\n",
       "    <tr>\n",
       "      <th>0</th>\n",
       "      <td>2016-07-01 00:00:00</td>\n",
       "      <td>5.827</td>\n",
       "      <td>2.009</td>\n",
       "      <td>1.599</td>\n",
       "      <td>0.462</td>\n",
       "      <td>4.203</td>\n",
       "      <td>1.340</td>\n",
       "      <td>30.531000</td>\n",
       "    </tr>\n",
       "    <tr>\n",
       "      <th>1</th>\n",
       "      <td>2016-07-01 01:00:00</td>\n",
       "      <td>5.693</td>\n",
       "      <td>2.076</td>\n",
       "      <td>1.492</td>\n",
       "      <td>0.426</td>\n",
       "      <td>4.142</td>\n",
       "      <td>1.371</td>\n",
       "      <td>27.787001</td>\n",
       "    </tr>\n",
       "    <tr>\n",
       "      <th>2</th>\n",
       "      <td>2016-07-01 02:00:00</td>\n",
       "      <td>5.157</td>\n",
       "      <td>1.741</td>\n",
       "      <td>1.279</td>\n",
       "      <td>0.355</td>\n",
       "      <td>3.777</td>\n",
       "      <td>1.218</td>\n",
       "      <td>27.787001</td>\n",
       "    </tr>\n",
       "    <tr>\n",
       "      <th>3</th>\n",
       "      <td>2016-07-01 03:00:00</td>\n",
       "      <td>5.090</td>\n",
       "      <td>1.942</td>\n",
       "      <td>1.279</td>\n",
       "      <td>0.391</td>\n",
       "      <td>3.807</td>\n",
       "      <td>1.279</td>\n",
       "      <td>25.044001</td>\n",
       "    </tr>\n",
       "    <tr>\n",
       "      <th>4</th>\n",
       "      <td>2016-07-01 04:00:00</td>\n",
       "      <td>5.358</td>\n",
       "      <td>1.942</td>\n",
       "      <td>1.492</td>\n",
       "      <td>0.462</td>\n",
       "      <td>3.868</td>\n",
       "      <td>1.279</td>\n",
       "      <td>21.948000</td>\n",
       "    </tr>\n",
       "    <tr>\n",
       "      <th>...</th>\n",
       "      <td>...</td>\n",
       "      <td>...</td>\n",
       "      <td>...</td>\n",
       "      <td>...</td>\n",
       "      <td>...</td>\n",
       "      <td>...</td>\n",
       "      <td>...</td>\n",
       "      <td>...</td>\n",
       "    </tr>\n",
       "    <tr>\n",
       "      <th>17415</th>\n",
       "      <td>2018-06-26 15:00:00</td>\n",
       "      <td>-1.674</td>\n",
       "      <td>3.550</td>\n",
       "      <td>-5.615</td>\n",
       "      <td>2.132</td>\n",
       "      <td>3.472</td>\n",
       "      <td>1.523</td>\n",
       "      <td>10.904000</td>\n",
       "    </tr>\n",
       "    <tr>\n",
       "      <th>17416</th>\n",
       "      <td>2018-06-26 16:00:00</td>\n",
       "      <td>-5.492</td>\n",
       "      <td>4.287</td>\n",
       "      <td>-9.132</td>\n",
       "      <td>2.274</td>\n",
       "      <td>3.533</td>\n",
       "      <td>1.675</td>\n",
       "      <td>11.044000</td>\n",
       "    </tr>\n",
       "    <tr>\n",
       "      <th>17417</th>\n",
       "      <td>2018-06-26 17:00:00</td>\n",
       "      <td>2.813</td>\n",
       "      <td>3.818</td>\n",
       "      <td>-0.817</td>\n",
       "      <td>2.097</td>\n",
       "      <td>3.716</td>\n",
       "      <td>1.523</td>\n",
       "      <td>10.271000</td>\n",
       "    </tr>\n",
       "    <tr>\n",
       "      <th>17418</th>\n",
       "      <td>2018-06-26 18:00:00</td>\n",
       "      <td>9.243</td>\n",
       "      <td>3.818</td>\n",
       "      <td>5.472</td>\n",
       "      <td>2.097</td>\n",
       "      <td>3.655</td>\n",
       "      <td>1.432</td>\n",
       "      <td>9.778000</td>\n",
       "    </tr>\n",
       "    <tr>\n",
       "      <th>17419</th>\n",
       "      <td>2018-06-26 19:00:00</td>\n",
       "      <td>10.114</td>\n",
       "      <td>3.550</td>\n",
       "      <td>6.183</td>\n",
       "      <td>1.564</td>\n",
       "      <td>3.716</td>\n",
       "      <td>1.462</td>\n",
       "      <td>9.567000</td>\n",
       "    </tr>\n",
       "  </tbody>\n",
       "</table>\n",
       "<p>17420 rows × 8 columns</p>\n",
       "</div>"
      ]
     },
     "execution_count": 2,
     "metadata": {},
     "output_type": "execute_result"
    }
   ],
   "execution_count": 2
  },
  {
   "metadata": {
    "ExecuteTime": {
     "end_time": "2024-08-13T04:32:55.594315Z",
     "start_time": "2024-08-13T04:32:55.592688Z"
    }
   },
   "cell_type": "code",
   "source": "",
   "id": "b13faf94d3fb6ae6",
   "outputs": [],
   "execution_count": 2
  },
  {
   "metadata": {
    "ExecuteTime": {
     "end_time": "2024-08-13T04:32:56.420294Z",
     "start_time": "2024-08-13T04:32:55.595701Z"
    }
   },
   "cell_type": "code",
   "source": "from TSForecasting.data_provider.data_factory import data_provider",
   "id": "48a1de227fa4e2b6",
   "outputs": [],
   "execution_count": 3
  },
  {
   "metadata": {
    "ExecuteTime": {
     "end_time": "2024-08-13T04:32:56.456052Z",
     "start_time": "2024-08-13T04:32:56.421309Z"
    }
   },
   "cell_type": "code",
   "source": [
    "dataset, dataloader = data_provider(root_path='.', data_path='TSForecasting/dataset/ETT-small/ETTh1.csv',\n",
    "                                    flag='train', features='MS', target='OT', data='ETTh1', \n",
    "                                    batch_size=32, freq='d', seq_len=7, label_len=0, pred_len=1,\n",
    "                                    embed='timeF')\n"
   ],
   "id": "d2a8ac0aee2cf6e0",
   "outputs": [
    {
     "name": "stdout",
     "output_type": "stream",
     "text": [
      "Mode: train; datapath: TSForecasting/dataset/ETT-small/ETTh1.csv, flag: train; features: MS, target: OT, data: ETTh1, batch_size: 32, freq: d, seq_len: 7, label_len: 0, pred_len: 1, embed: timeF\n",
      "train 8633\n"
     ]
    }
   ],
   "execution_count": 4
  },
  {
   "metadata": {},
   "cell_type": "markdown",
   "source": [
    "- **label_len: These are the immediate past time steps that the model uses as a context or reference while predicting the future values. These time steps are part of the target but are already known to the model during prediction.**\n",
    "- **pred_len: These are the future time steps that the model is supposed to predict.**\n",
    "- **Together, label_len + pred_len gives you the target sequence length.**"
   ],
   "id": "7d1e098e97475a09"
  },
  {
   "metadata": {
    "ExecuteTime": {
     "end_time": "2024-08-13T04:32:56.458461Z",
     "start_time": "2024-08-13T04:32:56.456971Z"
    }
   },
   "cell_type": "code",
   "source": "",
   "id": "b1196e31bb9f5919",
   "outputs": [],
   "execution_count": 4
  },
  {
   "metadata": {
    "ExecuteTime": {
     "end_time": "2024-08-13T04:32:56.462681Z",
     "start_time": "2024-08-13T04:32:56.459300Z"
    }
   },
   "cell_type": "code",
   "source": "dataset.data_x",
   "id": "5413404e9bb84ed9",
   "outputs": [
    {
     "data": {
      "text/plain": [
       "array([[ 5.82700014,  2.00900006,  1.59899998, ...,  4.20300007,\n",
       "         1.34000003, 30.53100014],\n",
       "       [ 5.69299984,  2.07599998,  1.49199998, ...,  4.1420002 ,\n",
       "         1.37100005, 27.78700066],\n",
       "       [ 5.15700006,  1.74100006,  1.27900004, ...,  3.77699995,\n",
       "         1.21800005, 27.78700066],\n",
       "       ...,\n",
       "       [ 8.37199974,  0.53600001,  5.47200012, ...,  3.28999996,\n",
       "        -0.67000002, 21.0340004 ],\n",
       "       [ 8.97500038,  0.73699999,  6.25400019, ...,  3.10700011,\n",
       "        -0.579     , 21.45599937],\n",
       "       [ 9.97999954,  1.07200003,  6.61000013, ...,  2.77200007,\n",
       "        -0.63999999, 20.75200081]])"
      ]
     },
     "execution_count": 5,
     "metadata": {},
     "output_type": "execute_result"
    }
   ],
   "execution_count": 5
  },
  {
   "metadata": {
    "ExecuteTime": {
     "end_time": "2024-08-13T04:32:56.485427Z",
     "start_time": "2024-08-13T04:32:56.463512Z"
    }
   },
   "cell_type": "code",
   "source": "dataset.data_y",
   "id": "fac8272248f8873",
   "outputs": [
    {
     "data": {
      "text/plain": [
       "array([[ 5.82700014,  2.00900006,  1.59899998, ...,  4.20300007,\n",
       "         1.34000003, 30.53100014],\n",
       "       [ 5.69299984,  2.07599998,  1.49199998, ...,  4.1420002 ,\n",
       "         1.37100005, 27.78700066],\n",
       "       [ 5.15700006,  1.74100006,  1.27900004, ...,  3.77699995,\n",
       "         1.21800005, 27.78700066],\n",
       "       ...,\n",
       "       [ 8.37199974,  0.53600001,  5.47200012, ...,  3.28999996,\n",
       "        -0.67000002, 21.0340004 ],\n",
       "       [ 8.97500038,  0.73699999,  6.25400019, ...,  3.10700011,\n",
       "        -0.579     , 21.45599937],\n",
       "       [ 9.97999954,  1.07200003,  6.61000013, ...,  2.77200007,\n",
       "        -0.63999999, 20.75200081]])"
      ]
     },
     "execution_count": 6,
     "metadata": {},
     "output_type": "execute_result"
    }
   ],
   "execution_count": 6
  },
  {
   "metadata": {
    "ExecuteTime": {
     "end_time": "2024-08-13T04:32:56.487448Z",
     "start_time": "2024-08-13T04:32:56.486087Z"
    }
   },
   "cell_type": "code",
   "source": "",
   "id": "79c2fc6db791a642",
   "outputs": [],
   "execution_count": 6
  },
  {
   "metadata": {},
   "cell_type": "markdown",
   "source": [
    "- **Reason why there are two datasets, data_x and data_y <br>**\n",
    "- **Suppose the dataset represents hourly temperature readings, and you're training a model to predict the next 24 hours based on the past 48 hours.<br>**\n",
    "- **data_x might hold the temperature readings for the past 48 hours (input to the model).<br>**\n",
    "- **data_y holds the readings for the next 24 hours, which the model attempts to predict.**"
   ],
   "id": "d90c20375bdac0bf"
  },
  {
   "metadata": {
    "ExecuteTime": {
     "end_time": "2024-08-13T04:32:56.489407Z",
     "start_time": "2024-08-13T04:32:56.488069Z"
    }
   },
   "cell_type": "code",
   "source": "",
   "id": "870ec6200adc7bc4",
   "outputs": [],
   "execution_count": 6
  },
  {
   "metadata": {
    "ExecuteTime": {
     "end_time": "2024-08-13T04:33:00.652729Z",
     "start_time": "2024-08-13T04:32:56.490039Z"
    }
   },
   "cell_type": "code",
   "source": [
    "for i in dataloader:\n",
    "    break"
   ],
   "id": "c276df3a8366b6b0",
   "outputs": [],
   "execution_count": 7
  },
  {
   "metadata": {
    "ExecuteTime": {
     "end_time": "2024-08-13T04:33:00.657575Z",
     "start_time": "2024-08-13T04:33:00.654078Z"
    }
   },
   "cell_type": "code",
   "source": "len(i)",
   "id": "7a01d83cc9039ccd",
   "outputs": [
    {
     "data": {
      "text/plain": [
       "4"
      ]
     },
     "execution_count": 8,
     "metadata": {},
     "output_type": "execute_result"
    }
   ],
   "execution_count": 8
  },
  {
   "metadata": {
    "ExecuteTime": {
     "end_time": "2024-08-13T04:33:00.678124Z",
     "start_time": "2024-08-13T04:33:00.659409Z"
    }
   },
   "cell_type": "code",
   "source": "i[0].shape, i[1].shape, i[2].shape, i[3].shape",
   "id": "b9ad952adcd9732c",
   "outputs": [
    {
     "data": {
      "text/plain": [
       "(torch.Size([32, 7, 7]),\n",
       " torch.Size([32, 1, 7]),\n",
       " torch.Size([32, 7, 3]),\n",
       " torch.Size([32, 1, 3]))"
      ]
     },
     "execution_count": 9,
     "metadata": {},
     "output_type": "execute_result"
    }
   ],
   "execution_count": 9
  },
  {
   "metadata": {},
   "cell_type": "markdown",
   "source": [
    "- **Data loader returns a batch of 4 tensors during each iteration**\n",
    "- **These tensors correspond to different components of the data used for training or evaluation in time series forecasting tasks**\n",
    "- **Input Sequence (i[0]): This tensor is the model's input, where it learns patterns over the seq_len time steps.**\n",
    "- **Target Sequence (i[1]): This tensor is what the model aims to predict. It includes label_len + pred_len time steps. The label_len part might be used by the model to guide its predictions for the pred_len steps.**\n",
    "- **Input Time Encodings (i[2]): Time encodings provide the model with additional context about the temporal position of each input in the sequence (e.g., which hour, day, or month a particular input corresponds to). This helps the model to better understand temporal dependencies.**\n",
    "- **Target Time Encodings (i[3]): Similar to i[2], these encodings provide temporal context for the target sequence.**"
   ],
   "id": "3bc98c7a5f4caf"
  },
  {
   "metadata": {
    "ExecuteTime": {
     "end_time": "2024-08-13T04:33:00.701699Z",
     "start_time": "2024-08-13T04:33:00.678908Z"
    }
   },
   "cell_type": "code",
   "source": "i[1][0]",
   "id": "3fb2b71d167c2d45",
   "outputs": [
    {
     "data": {
      "text/plain": [
       "tensor([[12.1230,  1.7410,  8.0310, -0.6040,  3.4110,  1.3400, 42.2080]],\n",
       "       dtype=torch.float64)"
      ]
     },
     "execution_count": 10,
     "metadata": {},
     "output_type": "execute_result"
    }
   ],
   "execution_count": 10
  },
  {
   "metadata": {
    "ExecuteTime": {
     "end_time": "2024-08-13T04:33:00.726503Z",
     "start_time": "2024-08-13T04:33:00.702557Z"
    }
   },
   "cell_type": "code",
   "source": "i[1][0]",
   "id": "f67bc6d2515b1dfa",
   "outputs": [
    {
     "data": {
      "text/plain": [
       "tensor([[12.1230,  1.7410,  8.0310, -0.6040,  3.4110,  1.3400, 42.2080]],\n",
       "       dtype=torch.float64)"
      ]
     },
     "execution_count": 11,
     "metadata": {},
     "output_type": "execute_result"
    }
   ],
   "execution_count": 11
  },
  {
   "metadata": {
    "ExecuteTime": {
     "end_time": "2024-08-13T04:33:00.729034Z",
     "start_time": "2024-08-13T04:33:00.727447Z"
    }
   },
   "cell_type": "code",
   "source": "",
   "id": "5da6c7dbd3cbec71",
   "outputs": [],
   "execution_count": 11
  },
  {
   "metadata": {
    "ExecuteTime": {
     "end_time": "2024-08-13T04:33:00.758649Z",
     "start_time": "2024-08-13T04:33:00.729823Z"
    }
   },
   "cell_type": "code",
   "source": "pd.read_csv('./data/test.csv')",
   "id": "dbf3a65c4f72fa73",
   "outputs": [
    {
     "data": {
      "text/plain": [
       "      warehouse        date holiday_name  holiday  shops_closed  \\\n",
       "0      Prague_1  2024-03-16          NaN        0             0   \n",
       "1      Prague_1  2024-03-17          NaN        0             0   \n",
       "2      Prague_1  2024-03-18          NaN        0             0   \n",
       "3      Prague_1  2024-03-19          NaN        0             0   \n",
       "4      Prague_1  2024-03-20          NaN        0             0   \n",
       "..          ...         ...          ...      ...           ...   \n",
       "392  Budapest_1  2024-05-11          NaN        0             0   \n",
       "393  Budapest_1  2024-05-12          NaN        0             0   \n",
       "394  Budapest_1  2024-05-13          NaN        0             0   \n",
       "395  Budapest_1  2024-05-14          NaN        0             0   \n",
       "396  Budapest_1  2024-05-15          NaN        0             0   \n",
       "\n",
       "     winter_school_holidays  school_holidays                     id  \n",
       "0                         0                0    Prague_1_2024-03-16  \n",
       "1                         0                0    Prague_1_2024-03-17  \n",
       "2                         0                0    Prague_1_2024-03-18  \n",
       "3                         0                0    Prague_1_2024-03-19  \n",
       "4                         0                0    Prague_1_2024-03-20  \n",
       "..                      ...              ...                    ...  \n",
       "392                       0                0  Budapest_1_2024-05-11  \n",
       "393                       0                0  Budapest_1_2024-05-12  \n",
       "394                       0                0  Budapest_1_2024-05-13  \n",
       "395                       0                0  Budapest_1_2024-05-14  \n",
       "396                       0                0  Budapest_1_2024-05-15  \n",
       "\n",
       "[397 rows x 8 columns]"
      ],
      "text/html": [
       "<div>\n",
       "<style scoped>\n",
       "    .dataframe tbody tr th:only-of-type {\n",
       "        vertical-align: middle;\n",
       "    }\n",
       "\n",
       "    .dataframe tbody tr th {\n",
       "        vertical-align: top;\n",
       "    }\n",
       "\n",
       "    .dataframe thead th {\n",
       "        text-align: right;\n",
       "    }\n",
       "</style>\n",
       "<table border=\"1\" class=\"dataframe\">\n",
       "  <thead>\n",
       "    <tr style=\"text-align: right;\">\n",
       "      <th></th>\n",
       "      <th>warehouse</th>\n",
       "      <th>date</th>\n",
       "      <th>holiday_name</th>\n",
       "      <th>holiday</th>\n",
       "      <th>shops_closed</th>\n",
       "      <th>winter_school_holidays</th>\n",
       "      <th>school_holidays</th>\n",
       "      <th>id</th>\n",
       "    </tr>\n",
       "  </thead>\n",
       "  <tbody>\n",
       "    <tr>\n",
       "      <th>0</th>\n",
       "      <td>Prague_1</td>\n",
       "      <td>2024-03-16</td>\n",
       "      <td>NaN</td>\n",
       "      <td>0</td>\n",
       "      <td>0</td>\n",
       "      <td>0</td>\n",
       "      <td>0</td>\n",
       "      <td>Prague_1_2024-03-16</td>\n",
       "    </tr>\n",
       "    <tr>\n",
       "      <th>1</th>\n",
       "      <td>Prague_1</td>\n",
       "      <td>2024-03-17</td>\n",
       "      <td>NaN</td>\n",
       "      <td>0</td>\n",
       "      <td>0</td>\n",
       "      <td>0</td>\n",
       "      <td>0</td>\n",
       "      <td>Prague_1_2024-03-17</td>\n",
       "    </tr>\n",
       "    <tr>\n",
       "      <th>2</th>\n",
       "      <td>Prague_1</td>\n",
       "      <td>2024-03-18</td>\n",
       "      <td>NaN</td>\n",
       "      <td>0</td>\n",
       "      <td>0</td>\n",
       "      <td>0</td>\n",
       "      <td>0</td>\n",
       "      <td>Prague_1_2024-03-18</td>\n",
       "    </tr>\n",
       "    <tr>\n",
       "      <th>3</th>\n",
       "      <td>Prague_1</td>\n",
       "      <td>2024-03-19</td>\n",
       "      <td>NaN</td>\n",
       "      <td>0</td>\n",
       "      <td>0</td>\n",
       "      <td>0</td>\n",
       "      <td>0</td>\n",
       "      <td>Prague_1_2024-03-19</td>\n",
       "    </tr>\n",
       "    <tr>\n",
       "      <th>4</th>\n",
       "      <td>Prague_1</td>\n",
       "      <td>2024-03-20</td>\n",
       "      <td>NaN</td>\n",
       "      <td>0</td>\n",
       "      <td>0</td>\n",
       "      <td>0</td>\n",
       "      <td>0</td>\n",
       "      <td>Prague_1_2024-03-20</td>\n",
       "    </tr>\n",
       "    <tr>\n",
       "      <th>...</th>\n",
       "      <td>...</td>\n",
       "      <td>...</td>\n",
       "      <td>...</td>\n",
       "      <td>...</td>\n",
       "      <td>...</td>\n",
       "      <td>...</td>\n",
       "      <td>...</td>\n",
       "      <td>...</td>\n",
       "    </tr>\n",
       "    <tr>\n",
       "      <th>392</th>\n",
       "      <td>Budapest_1</td>\n",
       "      <td>2024-05-11</td>\n",
       "      <td>NaN</td>\n",
       "      <td>0</td>\n",
       "      <td>0</td>\n",
       "      <td>0</td>\n",
       "      <td>0</td>\n",
       "      <td>Budapest_1_2024-05-11</td>\n",
       "    </tr>\n",
       "    <tr>\n",
       "      <th>393</th>\n",
       "      <td>Budapest_1</td>\n",
       "      <td>2024-05-12</td>\n",
       "      <td>NaN</td>\n",
       "      <td>0</td>\n",
       "      <td>0</td>\n",
       "      <td>0</td>\n",
       "      <td>0</td>\n",
       "      <td>Budapest_1_2024-05-12</td>\n",
       "    </tr>\n",
       "    <tr>\n",
       "      <th>394</th>\n",
       "      <td>Budapest_1</td>\n",
       "      <td>2024-05-13</td>\n",
       "      <td>NaN</td>\n",
       "      <td>0</td>\n",
       "      <td>0</td>\n",
       "      <td>0</td>\n",
       "      <td>0</td>\n",
       "      <td>Budapest_1_2024-05-13</td>\n",
       "    </tr>\n",
       "    <tr>\n",
       "      <th>395</th>\n",
       "      <td>Budapest_1</td>\n",
       "      <td>2024-05-14</td>\n",
       "      <td>NaN</td>\n",
       "      <td>0</td>\n",
       "      <td>0</td>\n",
       "      <td>0</td>\n",
       "      <td>0</td>\n",
       "      <td>Budapest_1_2024-05-14</td>\n",
       "    </tr>\n",
       "    <tr>\n",
       "      <th>396</th>\n",
       "      <td>Budapest_1</td>\n",
       "      <td>2024-05-15</td>\n",
       "      <td>NaN</td>\n",
       "      <td>0</td>\n",
       "      <td>0</td>\n",
       "      <td>0</td>\n",
       "      <td>0</td>\n",
       "      <td>Budapest_1_2024-05-15</td>\n",
       "    </tr>\n",
       "  </tbody>\n",
       "</table>\n",
       "<p>397 rows × 8 columns</p>\n",
       "</div>"
      ]
     },
     "execution_count": 12,
     "metadata": {},
     "output_type": "execute_result"
    }
   ],
   "execution_count": 12
  },
  {
   "metadata": {
    "ExecuteTime": {
     "end_time": "2024-08-13T04:33:00.774327Z",
     "start_time": "2024-08-13T04:33:00.759438Z"
    }
   },
   "cell_type": "code",
   "source": "397/32",
   "id": "45057dfa818d9783",
   "outputs": [
    {
     "data": {
      "text/plain": [
       "12.40625"
      ]
     },
     "execution_count": 13,
     "metadata": {},
     "output_type": "execute_result"
    }
   ],
   "execution_count": 13
  },
  {
   "metadata": {
    "ExecuteTime": {
     "end_time": "2024-08-13T04:33:00.776512Z",
     "start_time": "2024-08-13T04:33:00.775064Z"
    }
   },
   "cell_type": "code",
   "source": "",
   "id": "107d491ff02138ec",
   "outputs": [],
   "execution_count": 13
  }
 ],
 "metadata": {
  "kernelspec": {
   "display_name": "Python 3",
   "language": "python",
   "name": "python3"
  },
  "language_info": {
   "codemirror_mode": {
    "name": "ipython",
    "version": 2
   },
   "file_extension": ".py",
   "mimetype": "text/x-python",
   "name": "python",
   "nbconvert_exporter": "python",
   "pygments_lexer": "ipython2",
   "version": "2.7.6"
  }
 },
 "nbformat": 4,
 "nbformat_minor": 5
}
